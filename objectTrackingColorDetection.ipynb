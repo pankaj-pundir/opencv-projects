{
 "cells": [
  {
   "cell_type": "markdown",
   "metadata": {},
   "source": [
    "## Object Tracking Using Color Detection (Pankaj Pundir)"
   ]
  },
  {
   "cell_type": "code",
   "execution_count": 1,
   "metadata": {},
   "outputs": [],
   "source": [
    "import cv2\n",
    "import matplotlib.pyplot as plt\n",
    "import numpy as np\n",
    "def im(image,name=\"image\"):\n",
    "    cv2.imshow(name,image)\n",
    "    cv2.waitKey(0)\n",
    "    cv2.destroyAllWindows()"
   ]
  },
  {
   "cell_type": "code",
   "execution_count": 4,
   "metadata": {},
   "outputs": [],
   "source": [
    "lines=[]\n",
    "def center_of_contour(x_c):\n",
    "    M=cv2.moments(x_c)\n",
    "    #print(M['m00'])\n",
    "    return (int(M['m10']/(M['m00'])),int(M['m01']/(M['m00'])))\n",
    "def x_cord_contour(x_c):\n",
    "    if cv2.contourArea(x_c) >9:\n",
    "        return center_of_contour(x_c)[0]\n",
    "    \n",
    "def image_color_track(black,image):\n",
    "    gray=cv2.cvtColor(black,cv2.COLOR_RGB2GRAY)\n",
    "    can=cv2.Canny(gray,3,20)\n",
    "    con_img,contours,hierarchy=cv2.findContours(can,cv2.RETR_EXTERNAL,cv2.CHAIN_APPROX_SIMPLE)\n",
    "    #print(\"success\")\n",
    "    try:\n",
    "        #sorted_cont=sorted(contours,key=cv2.contourArea,reverse=True)\n",
    "        area,ci=0,0\n",
    "        for i in range(len(contours)):\n",
    "            cnt=contours[i]\n",
    "            max_area = cv2.contourArea(cnt)\n",
    "            if(area>max_area):\n",
    "                max_area=area\n",
    "                ci=i\n",
    "        cnt=contours[ci]\n",
    "        hull=cv2.convexHull(cnt)\n",
    "        cv2.drawContours(black,[hull],0,(0,255,0),2)\n",
    "        #print(\"success\")\n",
    "        try:\n",
    "            lines.append((center_of_contour(cnt)+lines[-1])/2)\n",
    "        except:\n",
    "            lines.append((center_of_contour(cnt)))\n",
    "    finally:\n",
    "        if len(lines)>50:\n",
    "            lines.pop(0)\n",
    "        if len(lines)>0:\n",
    "            for i in range(len(lines)-1):\n",
    "                cv2.line(image,lines[i],lines[i+1],(255,255,255),3)\n",
    "        return image\n",
    "def color_extractor(image): \n",
    "    #hsv=cv2.cvtColor(image,cv2.COLOR_BGR2HSV)\n",
    "    hsv=image\n",
    "    lower_lim=np.array([0,0,100],dtype='uint8')\n",
    "    upper_lim=np.array([0,0,255],dtype='uint8')\n",
    "    mask=cv2.inRange(hsv,lower_lim,upper_lim)\n",
    "    res=cv2.bitwise_and(hsv,hsv,mask=mask)\n",
    "    blur = cv2.GaussianBlur(res,(5,5),0)\n",
    "    kernel=np.ones((10,10),np.uint8)\n",
    "    res=cv2.dilate(res,kernel,iterations=1)\n",
    "    #res=cv2.blur(res,(8,8))\n",
    "    #return res\n",
    "    return image_color_track(res,image)"
   ]
  },
  {
   "cell_type": "code",
   "execution_count": 7,
   "metadata": {},
   "outputs": [],
   "source": [
    "cap = cv2.VideoCapture(0)\n",
    "# VideoCapture cap\n",
    "# cap.open(192.168.1.180/?action=stream?dummy=param.mjpg)\n",
    "# fourcc = cv2.VideoWriter_fourcc(*'XVID')\n",
    "# out = cv2.VideoWriter('output.avi',fourcc, 20.0, (640,480))\n",
    "\n",
    "\n",
    "\n",
    "\n",
    "if (cap.isOpened()== False): \n",
    "  print(\"Error opening video stream or file\")\n",
    " \n",
    "# Read until video is completed\n",
    "while(cap.isOpened()):\n",
    "  # Capture frame-by-frame\n",
    "  ret, frame = cap.read()\n",
    "  if ret == True:\n",
    " \n",
    "    # Display the resulting frame\n",
    "    cv2.imshow('Frame',color_extractor(frame))\n",
    " \n",
    "    # Press Q on keyboard to  exit\n",
    "    if cv2.waitKey(25) & 0xFF == ord('q'):\n",
    "      break\n",
    " \n",
    "  # Break the loop\n",
    "  else: \n",
    "    break\n",
    " \n",
    "# When everything done, release the video capture object\n",
    "cap.release()\n",
    " \n",
    "# Closes all the frames\n",
    "cv2.destroyAllWindows()"
   ]
  },
  {
   "cell_type": "code",
   "execution_count": null,
   "metadata": {},
   "outputs": [],
   "source": []
  },
  {
   "cell_type": "code",
   "execution_count": null,
   "metadata": {},
   "outputs": [],
   "source": []
  }
 ],
 "metadata": {
  "kernelspec": {
   "display_name": "Python 3",
   "language": "python",
   "name": "python3"
  },
  "language_info": {
   "codemirror_mode": {
    "name": "ipython",
    "version": 3
   },
   "file_extension": ".py",
   "mimetype": "text/x-python",
   "name": "python",
   "nbconvert_exporter": "python",
   "pygments_lexer": "ipython3",
   "version": "3.6.4"
  }
 },
 "nbformat": 4,
 "nbformat_minor": 2
}
